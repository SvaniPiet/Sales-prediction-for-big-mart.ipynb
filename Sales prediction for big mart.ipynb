{
 "cells": [
  {
   "cell_type": "markdown",
   "metadata": {
    "id": "jmzZvRTGqJV_"
   },
   "source": [
    "### Sales Prediction for Big Mart Outlets\n",
    "\n",
    "The data scientists at BigMart have collected 2013 sales data for 1559 products across 10 stores in different cities. Also, certain attributes of each product and store have been defined. The aim is to build a predictive model and predict the sales of each product at a particular outlet.\n",
    "\n",
    "Using this model, BigMart will try to understand the properties of products and outlets which play a key role in increasing sales.\n",
    "\n",
    "Please note that the data may have missing values as some stores might not report all the data due to technical glitches. Hence, it will be required to treat them accordingly.\n",
    "\n",
    "Try and Build Regression model using all the techniques of regression: Linear, Ridge, Lasso, Decision Tree and XGboost"
   ]
  },
  {
   "cell_type": "code",
   "execution_count": 1,
   "metadata": {
    "id": "97VEEKJrqJWS",
    "scrolled": true
   },
   "outputs": [],
   "source": [
    "# importing required data and libraries\n",
    "import pandas as pd\n",
    "from sklearn.tree import plot_tree\n",
    "import numpy as np\n",
    "import matplotlib.pyplot as plt\n",
    "import warnings\n",
    "warnings.filterwarnings(\"ignore\")\n",
    "\n",
    "\n",
    "# read the train data\n",
    "data=pd.read_csv(\"trainbigmart.csv\")"
   ]
  },
  {
   "cell_type": "code",
   "execution_count": 2,
   "metadata": {},
   "outputs": [
    {
     "data": {
      "text/html": [
       "<div>\n",
       "<style scoped>\n",
       "    .dataframe tbody tr th:only-of-type {\n",
       "        vertical-align: middle;\n",
       "    }\n",
       "\n",
       "    .dataframe tbody tr th {\n",
       "        vertical-align: top;\n",
       "    }\n",
       "\n",
       "    .dataframe thead th {\n",
       "        text-align: right;\n",
       "    }\n",
       "</style>\n",
       "<table border=\"1\" class=\"dataframe\">\n",
       "  <thead>\n",
       "    <tr style=\"text-align: right;\">\n",
       "      <th></th>\n",
       "      <th>Item_Identifier</th>\n",
       "      <th>Item_Weight</th>\n",
       "      <th>Item_Fat_Content</th>\n",
       "      <th>Item_Visibility</th>\n",
       "      <th>Item_Type</th>\n",
       "      <th>Item_MRP</th>\n",
       "      <th>Outlet_Identifier</th>\n",
       "      <th>Outlet_Establishment_Year</th>\n",
       "      <th>Outlet_Size</th>\n",
       "      <th>Outlet_Location_Type</th>\n",
       "      <th>Outlet_Type</th>\n",
       "      <th>Item_Outlet_Sales</th>\n",
       "    </tr>\n",
       "  </thead>\n",
       "  <tbody>\n",
       "    <tr>\n",
       "      <th>0</th>\n",
       "      <td>FDA15</td>\n",
       "      <td>9.30</td>\n",
       "      <td>Low Fat</td>\n",
       "      <td>0.016047</td>\n",
       "      <td>Dairy</td>\n",
       "      <td>249.8092</td>\n",
       "      <td>OUT049</td>\n",
       "      <td>1999</td>\n",
       "      <td>Medium</td>\n",
       "      <td>Tier 1</td>\n",
       "      <td>Supermarket Type1</td>\n",
       "      <td>3735.1380</td>\n",
       "    </tr>\n",
       "    <tr>\n",
       "      <th>1</th>\n",
       "      <td>DRC01</td>\n",
       "      <td>5.92</td>\n",
       "      <td>Regular</td>\n",
       "      <td>0.019278</td>\n",
       "      <td>Soft Drinks</td>\n",
       "      <td>48.2692</td>\n",
       "      <td>OUT018</td>\n",
       "      <td>2009</td>\n",
       "      <td>Medium</td>\n",
       "      <td>Tier 3</td>\n",
       "      <td>Supermarket Type2</td>\n",
       "      <td>443.4228</td>\n",
       "    </tr>\n",
       "    <tr>\n",
       "      <th>2</th>\n",
       "      <td>FDN15</td>\n",
       "      <td>17.50</td>\n",
       "      <td>Low Fat</td>\n",
       "      <td>0.016760</td>\n",
       "      <td>Meat</td>\n",
       "      <td>141.6180</td>\n",
       "      <td>OUT049</td>\n",
       "      <td>1999</td>\n",
       "      <td>Medium</td>\n",
       "      <td>Tier 1</td>\n",
       "      <td>Supermarket Type1</td>\n",
       "      <td>2097.2700</td>\n",
       "    </tr>\n",
       "    <tr>\n",
       "      <th>3</th>\n",
       "      <td>FDX07</td>\n",
       "      <td>19.20</td>\n",
       "      <td>Regular</td>\n",
       "      <td>0.000000</td>\n",
       "      <td>Fruits and Vegetables</td>\n",
       "      <td>182.0950</td>\n",
       "      <td>OUT010</td>\n",
       "      <td>1998</td>\n",
       "      <td>NaN</td>\n",
       "      <td>Tier 3</td>\n",
       "      <td>Grocery Store</td>\n",
       "      <td>732.3800</td>\n",
       "    </tr>\n",
       "    <tr>\n",
       "      <th>4</th>\n",
       "      <td>NCD19</td>\n",
       "      <td>8.93</td>\n",
       "      <td>Low Fat</td>\n",
       "      <td>0.000000</td>\n",
       "      <td>Household</td>\n",
       "      <td>53.8614</td>\n",
       "      <td>OUT013</td>\n",
       "      <td>1987</td>\n",
       "      <td>High</td>\n",
       "      <td>Tier 3</td>\n",
       "      <td>Supermarket Type1</td>\n",
       "      <td>994.7052</td>\n",
       "    </tr>\n",
       "  </tbody>\n",
       "</table>\n",
       "</div>"
      ],
      "text/plain": [
       "  Item_Identifier  Item_Weight Item_Fat_Content  Item_Visibility  \\\n",
       "0           FDA15         9.30          Low Fat         0.016047   \n",
       "1           DRC01         5.92          Regular         0.019278   \n",
       "2           FDN15        17.50          Low Fat         0.016760   \n",
       "3           FDX07        19.20          Regular         0.000000   \n",
       "4           NCD19         8.93          Low Fat         0.000000   \n",
       "\n",
       "               Item_Type  Item_MRP Outlet_Identifier  \\\n",
       "0                  Dairy  249.8092            OUT049   \n",
       "1            Soft Drinks   48.2692            OUT018   \n",
       "2                   Meat  141.6180            OUT049   \n",
       "3  Fruits and Vegetables  182.0950            OUT010   \n",
       "4              Household   53.8614            OUT013   \n",
       "\n",
       "   Outlet_Establishment_Year Outlet_Size Outlet_Location_Type  \\\n",
       "0                       1999      Medium               Tier 1   \n",
       "1                       2009      Medium               Tier 3   \n",
       "2                       1999      Medium               Tier 1   \n",
       "3                       1998         NaN               Tier 3   \n",
       "4                       1987        High               Tier 3   \n",
       "\n",
       "         Outlet_Type  Item_Outlet_Sales  \n",
       "0  Supermarket Type1          3735.1380  \n",
       "1  Supermarket Type2           443.4228  \n",
       "2  Supermarket Type1          2097.2700  \n",
       "3      Grocery Store           732.3800  \n",
       "4  Supermarket Type1           994.7052  "
      ]
     },
     "execution_count": 2,
     "metadata": {},
     "output_type": "execute_result"
    }
   ],
   "source": [
    "data.head()"
   ]
  },
  {
   "cell_type": "code",
   "execution_count": 3,
   "metadata": {},
   "outputs": [
    {
     "name": "stdout",
     "output_type": "stream",
     "text": [
      "<class 'pandas.core.frame.DataFrame'>\n",
      "RangeIndex: 8523 entries, 0 to 8522\n",
      "Data columns (total 12 columns):\n",
      " #   Column                     Non-Null Count  Dtype  \n",
      "---  ------                     --------------  -----  \n",
      " 0   Item_Identifier            8523 non-null   object \n",
      " 1   Item_Weight                7060 non-null   float64\n",
      " 2   Item_Fat_Content           8523 non-null   object \n",
      " 3   Item_Visibility            8523 non-null   float64\n",
      " 4   Item_Type                  8523 non-null   object \n",
      " 5   Item_MRP                   8523 non-null   float64\n",
      " 6   Outlet_Identifier          8523 non-null   object \n",
      " 7   Outlet_Establishment_Year  8523 non-null   int64  \n",
      " 8   Outlet_Size                6113 non-null   object \n",
      " 9   Outlet_Location_Type       8523 non-null   object \n",
      " 10  Outlet_Type                8523 non-null   object \n",
      " 11  Item_Outlet_Sales          8523 non-null   float64\n",
      "dtypes: float64(4), int64(1), object(7)\n",
      "memory usage: 799.2+ KB\n"
     ]
    }
   ],
   "source": [
    "data.info()"
   ]
  },
  {
   "cell_type": "code",
   "execution_count": 4,
   "metadata": {
    "id": "_SpI8dGhqJWe"
   },
   "outputs": [
    {
     "data": {
      "text/plain": [
       "Item_Identifier                 0\n",
       "Item_Weight                  1463\n",
       "Item_Fat_Content                0\n",
       "Item_Visibility                 0\n",
       "Item_Type                       0\n",
       "Item_MRP                        0\n",
       "Outlet_Identifier               0\n",
       "Outlet_Establishment_Year       0\n",
       "Outlet_Size                  2410\n",
       "Outlet_Location_Type            0\n",
       "Outlet_Type                     0\n",
       "Item_Outlet_Sales               0\n",
       "dtype: int64"
      ]
     },
     "execution_count": 4,
     "metadata": {},
     "output_type": "execute_result"
    }
   ],
   "source": [
    "# check for the null values and explore shape as well\n",
    "\n",
    "data.isna().sum()"
   ]
  },
  {
   "cell_type": "markdown",
   "metadata": {
    "id": "u6HkJZQgqJWg"
   },
   "source": [
    "There are only two variables with missing values – Item_Weight and Outlet_Size.\n",
    "\n",
    "Since Item_Weight is a continuous variable, we can use either mean or median to impute the missing values. On the other hand, Outlet_Size is a categorical variable and hence we will replace the missing values by the mode of the column. You can try different methods to impute missing values as well.\n",
    "\n"
   ]
  },
  {
   "cell_type": "code",
   "execution_count": 5,
   "metadata": {},
   "outputs": [
    {
     "data": {
      "text/plain": [
       "(8523, 12)"
      ]
     },
     "execution_count": 5,
     "metadata": {},
     "output_type": "execute_result"
    }
   ],
   "source": [
    "data.shape"
   ]
  },
  {
   "cell_type": "code",
   "execution_count": 8,
   "metadata": {
    "id": "TYr8hB1hqJWl"
   },
   "outputs": [],
   "source": [
    "# impute missing values in item weight by mean\n",
    "data[\"Item_Weight\"].fillna(data[\"Item_Weight\"].mean(),inplace=True)\n",
    "\n",
    "# impute outlet size in training data by mode\n",
    "outlet_size_mode = data.pivot_table(values='Outlet_Size', columns='Outlet_Type', aggfunc=(lambda x: x.mode()[0]))\n",
    "miss_bool = data['Outlet_Size'].isnull() #False=>present , True =>missing\n",
    "data.loc[miss_bool, 'Outlet_Size'] = data.loc[miss_bool, 'Outlet_Type'].apply(lambda x: outlet_size_mode[x])\n"
   ]
  },
  {
   "cell_type": "code",
   "execution_count": 9,
   "metadata": {
    "id": "Bt7-CzSJqJWj",
    "scrolled": true
   },
   "outputs": [
    {
     "data": {
      "image/png": "[encoded data removed]",
      "text/plain": [
       "<Figure size 432x288 with 1 Axes>"
      ]
     },
     "metadata": {
      "needs_background": "light"
     },
     "output_type": "display_data"
    }
   ],
   "source": [
    "#create box plot on Item weight\n",
    "plt.boxplot(data[\"Item_Weight\"])\n",
    "plt.show()\n"
   ]
  },
  {
   "cell_type": "code",
   "execution_count": 10,
   "metadata": {},
   "outputs": [
    {
     "data": {
      "text/html": [
       "<div>\n",
       "<style scoped>\n",
       "    .dataframe tbody tr th:only-of-type {\n",
       "        vertical-align: middle;\n",
       "    }\n",
       "\n",
       "    .dataframe tbody tr th {\n",
       "        vertical-align: top;\n",
       "    }\n",
       "\n",
       "    .dataframe thead th {\n",
       "        text-align: right;\n",
       "    }\n",
       "</style>\n",
       "<table border=\"1\" class=\"dataframe\">\n",
       "  <thead>\n",
       "    <tr style=\"text-align: right;\">\n",
       "      <th></th>\n",
       "      <th>Item_Identifier</th>\n",
       "      <th>Item_Weight</th>\n",
       "      <th>Item_Fat_Content</th>\n",
       "      <th>Item_Visibility</th>\n",
       "      <th>Item_Type</th>\n",
       "      <th>Item_MRP</th>\n",
       "      <th>Outlet_Identifier</th>\n",
       "      <th>Outlet_Establishment_Year</th>\n",
       "      <th>Outlet_Size</th>\n",
       "      <th>Outlet_Location_Type</th>\n",
       "      <th>Outlet_Type</th>\n",
       "      <th>Item_Outlet_Sales</th>\n",
       "    </tr>\n",
       "  </thead>\n",
       "  <tbody>\n",
       "    <tr>\n",
       "      <th>0</th>\n",
       "      <td>FDA15</td>\n",
       "      <td>9.30</td>\n",
       "      <td>Low Fat</td>\n",
       "      <td>0.016047</td>\n",
       "      <td>Dairy</td>\n",
       "      <td>249.8092</td>\n",
       "      <td>OUT049</td>\n",
       "      <td>1999</td>\n",
       "      <td>Medium</td>\n",
       "      <td>Tier 1</td>\n",
       "      <td>Supermarket Type1</td>\n",
       "      <td>3735.1380</td>\n",
       "    </tr>\n",
       "    <tr>\n",
       "      <th>1</th>\n",
       "      <td>DRC01</td>\n",
       "      <td>5.92</td>\n",
       "      <td>Regular</td>\n",
       "      <td>0.019278</td>\n",
       "      <td>Soft Drinks</td>\n",
       "      <td>48.2692</td>\n",
       "      <td>OUT018</td>\n",
       "      <td>2009</td>\n",
       "      <td>Medium</td>\n",
       "      <td>Tier 3</td>\n",
       "      <td>Supermarket Type2</td>\n",
       "      <td>443.4228</td>\n",
       "    </tr>\n",
       "    <tr>\n",
       "      <th>2</th>\n",
       "      <td>FDN15</td>\n",
       "      <td>17.50</td>\n",
       "      <td>Low Fat</td>\n",
       "      <td>0.016760</td>\n",
       "      <td>Meat</td>\n",
       "      <td>141.6180</td>\n",
       "      <td>OUT049</td>\n",
       "      <td>1999</td>\n",
       "      <td>Medium</td>\n",
       "      <td>Tier 1</td>\n",
       "      <td>Supermarket Type1</td>\n",
       "      <td>2097.2700</td>\n",
       "    </tr>\n",
       "    <tr>\n",
       "      <th>3</th>\n",
       "      <td>FDX07</td>\n",
       "      <td>19.20</td>\n",
       "      <td>Regular</td>\n",
       "      <td>0.000000</td>\n",
       "      <td>Fruits and Vegetables</td>\n",
       "      <td>182.0950</td>\n",
       "      <td>OUT010</td>\n",
       "      <td>1998</td>\n",
       "      <td>Small</td>\n",
       "      <td>Tier 3</td>\n",
       "      <td>Grocery Store</td>\n",
       "      <td>732.3800</td>\n",
       "    </tr>\n",
       "    <tr>\n",
       "      <th>4</th>\n",
       "      <td>NCD19</td>\n",
       "      <td>8.93</td>\n",
       "      <td>Low Fat</td>\n",
       "      <td>0.000000</td>\n",
       "      <td>Household</td>\n",
       "      <td>53.8614</td>\n",
       "      <td>OUT013</td>\n",
       "      <td>1987</td>\n",
       "      <td>High</td>\n",
       "      <td>Tier 3</td>\n",
       "      <td>Supermarket Type1</td>\n",
       "      <td>994.7052</td>\n",
       "    </tr>\n",
       "  </tbody>\n",
       "</table>\n",
       "</div>"
      ],
      "text/plain": [
       "  Item_Identifier  Item_Weight Item_Fat_Content  Item_Visibility  \\\n",
       "0           FDA15         9.30          Low Fat         0.016047   \n",
       "1           DRC01         5.92          Regular         0.019278   \n",
       "2           FDN15        17.50          Low Fat         0.016760   \n",
       "3           FDX07        19.20          Regular         0.000000   \n",
       "4           NCD19         8.93          Low Fat         0.000000   \n",
       "\n",
       "               Item_Type  Item_MRP Outlet_Identifier  \\\n",
       "0                  Dairy  249.8092            OUT049   \n",
       "1            Soft Drinks   48.2692            OUT018   \n",
       "2                   Meat  141.6180            OUT049   \n",
       "3  Fruits and Vegetables  182.0950            OUT010   \n",
       "4              Household   53.8614            OUT013   \n",
       "\n",
       "   Outlet_Establishment_Year Outlet_Size Outlet_Location_Type  \\\n",
       "0                       1999      Medium               Tier 1   \n",
       "1                       2009      Medium               Tier 3   \n",
       "2                       1999      Medium               Tier 1   \n",
       "3                       1998       Small               Tier 3   \n",
       "4                       1987        High               Tier 3   \n",
       "\n",
       "         Outlet_Type  Item_Outlet_Sales  \n",
       "0  Supermarket Type1          3735.1380  \n",
       "1  Supermarket Type2           443.4228  \n",
       "2  Supermarket Type1          2097.2700  \n",
       "3      Grocery Store           732.3800  \n",
       "4  Supermarket Type1           994.7052  "
      ]
     },
     "execution_count": 10,
     "metadata": {},
     "output_type": "execute_result"
    }
   ],
   "source": [
    "data.head()"
   ]
  },
  {
   "cell_type": "code",
   "execution_count": 11,
   "metadata": {
    "id": "T0hHfDC4qJWp"
   },
   "outputs": [
    {
     "data": {
      "text/plain": [
       "Item_Identifier              0\n",
       "Item_Weight                  0\n",
       "Item_Fat_Content             0\n",
       "Item_Visibility              0\n",
       "Item_Type                    0\n",
       "Item_MRP                     0\n",
       "Outlet_Identifier            0\n",
       "Outlet_Establishment_Year    0\n",
       "Outlet_Size                  0\n",
       "Outlet_Location_Type         0\n",
       "Outlet_Type                  0\n",
       "Item_Outlet_Sales            0\n",
       "dtype: int64"
      ]
     },
     "execution_count": 11,
     "metadata": {},
     "output_type": "execute_result"
    }
   ],
   "source": [
    "# check for the null values again\n",
    "data.isna().sum()"
   ]
  },
  {
   "cell_type": "markdown",
   "metadata": {
    "id": "4lz_qEE-qJWr"
   },
   "source": [
    "### Explore the categorical columns"
   ]
  },
  {
   "cell_type": "code",
   "execution_count": 12,
   "metadata": {
    "id": "BCkdKQtVqJW1"
   },
   "outputs": [
    {
     "data": {
      "text/plain": [
       "Item_Identifier               object\n",
       "Item_Weight                  float64\n",
       "Item_Fat_Content              object\n",
       "Item_Visibility              float64\n",
       "Item_Type                     object\n",
       "Item_MRP                     float64\n",
       "Outlet_Identifier             object\n",
       "Outlet_Establishment_Year      int64\n",
       "Outlet_Size                   object\n",
       "Outlet_Location_Type          object\n",
       "Outlet_Type                   object\n",
       "Item_Outlet_Sales            float64\n",
       "dtype: object"
      ]
     },
     "execution_count": 12,
     "metadata": {},
     "output_type": "execute_result"
    }
   ],
   "source": [
    "data.dtypes"
   ]
  },
  {
   "cell_type": "markdown",
   "metadata": {
    "id": "ogI_N9tWqJW3"
   },
   "source": [
    "Encode the categorical variables\n",
    "\n",
    "To check the categorical variables in the data, you can use the train_data.dtypes() function. This will give you a list of the data types against each variable. For the BigMart sales data, we have the following categorical variable –\n",
    "\n",
    "Item_Fat_Content\n",
    "\n",
    "Item_Type,\n",
    "\n",
    "Outlet_Identifier\n",
    "\n",
    "Outlet_Size,\n",
    "\n",
    "Outlet_Location_Type, and\n",
    "\n",
    "Outlet_Type"
   ]
  },
  {
   "cell_type": "code",
   "execution_count": 13,
   "metadata": {
    "id": "fBAmgXo_qJW5"
   },
   "outputs": [],
   "source": [
    "from sklearn.preprocessing import LabelEncoder\n",
    "categorical_cols = ['Item_Fat_Content',\n",
    "                    'Item_Type',\n",
    "                    'Outlet_Identifier',\n",
    "                    'Outlet_Size',\n",
    "                    'Outlet_Location_Type',\n",
    "                    'Outlet_Type']\n",
    "le = LabelEncoder()\n",
    "# apply le on categorical feature columns\n",
    "data[categorical_cols] = data[categorical_cols].apply(lambda col: le.fit_transform(col))"
   ]
  },
  {
   "cell_type": "markdown",
   "metadata": {
    "id": "56nRkKciyiu2"
   },
   "source": [
    "Explore categorical columns after label encoding\n"
   ]
  },
  {
   "cell_type": "code",
   "execution_count": 14,
   "metadata": {},
   "outputs": [
    {
     "data": {
      "text/html": [
       "<div>\n",
       "<style scoped>\n",
       "    .dataframe tbody tr th:only-of-type {\n",
       "        vertical-align: middle;\n",
       "    }\n",
       "\n",
       "    .dataframe tbody tr th {\n",
       "        vertical-align: top;\n",
       "    }\n",
       "\n",
       "    .dataframe thead th {\n",
       "        text-align: right;\n",
       "    }\n",
       "</style>\n",
       "<table border=\"1\" class=\"dataframe\">\n",
       "  <thead>\n",
       "    <tr style=\"text-align: right;\">\n",
       "      <th></th>\n",
       "      <th>Item_Identifier</th>\n",
       "      <th>Item_Weight</th>\n",
       "      <th>Item_Fat_Content</th>\n",
       "      <th>Item_Visibility</th>\n",
       "      <th>Item_Type</th>\n",
       "      <th>Item_MRP</th>\n",
       "      <th>Outlet_Identifier</th>\n",
       "      <th>Outlet_Establishment_Year</th>\n",
       "      <th>Outlet_Size</th>\n",
       "      <th>Outlet_Location_Type</th>\n",
       "      <th>Outlet_Type</th>\n",
       "      <th>Item_Outlet_Sales</th>\n",
       "    </tr>\n",
       "  </thead>\n",
       "  <tbody>\n",
       "    <tr>\n",
       "      <th>0</th>\n",
       "      <td>FDA15</td>\n",
       "      <td>9.30</td>\n",
       "      <td>1</td>\n",
       "      <td>0.016047</td>\n",
       "      <td>4</td>\n",
       "      <td>249.8092</td>\n",
       "      <td>9</td>\n",
       "      <td>1999</td>\n",
       "      <td>1</td>\n",
       "      <td>0</td>\n",
       "      <td>1</td>\n",
       "      <td>3735.1380</td>\n",
       "    </tr>\n",
       "    <tr>\n",
       "      <th>1</th>\n",
       "      <td>DRC01</td>\n",
       "      <td>5.92</td>\n",
       "      <td>2</td>\n",
       "      <td>0.019278</td>\n",
       "      <td>14</td>\n",
       "      <td>48.2692</td>\n",
       "      <td>3</td>\n",
       "      <td>2009</td>\n",
       "      <td>1</td>\n",
       "      <td>2</td>\n",
       "      <td>2</td>\n",
       "      <td>443.4228</td>\n",
       "    </tr>\n",
       "    <tr>\n",
       "      <th>2</th>\n",
       "      <td>FDN15</td>\n",
       "      <td>17.50</td>\n",
       "      <td>1</td>\n",
       "      <td>0.016760</td>\n",
       "      <td>10</td>\n",
       "      <td>141.6180</td>\n",
       "      <td>9</td>\n",
       "      <td>1999</td>\n",
       "      <td>1</td>\n",
       "      <td>0</td>\n",
       "      <td>1</td>\n",
       "      <td>2097.2700</td>\n",
       "    </tr>\n",
       "    <tr>\n",
       "      <th>3</th>\n",
       "      <td>FDX07</td>\n",
       "      <td>19.20</td>\n",
       "      <td>2</td>\n",
       "      <td>0.000000</td>\n",
       "      <td>6</td>\n",
       "      <td>182.0950</td>\n",
       "      <td>0</td>\n",
       "      <td>1998</td>\n",
       "      <td>2</td>\n",
       "      <td>2</td>\n",
       "      <td>0</td>\n",
       "      <td>732.3800</td>\n",
       "    </tr>\n",
       "    <tr>\n",
       "      <th>4</th>\n",
       "      <td>NCD19</td>\n",
       "      <td>8.93</td>\n",
       "      <td>1</td>\n",
       "      <td>0.000000</td>\n",
       "      <td>9</td>\n",
       "      <td>53.8614</td>\n",
       "      <td>1</td>\n",
       "      <td>1987</td>\n",
       "      <td>0</td>\n",
       "      <td>2</td>\n",
       "      <td>1</td>\n",
       "      <td>994.7052</td>\n",
       "    </tr>\n",
       "  </tbody>\n",
       "</table>\n",
       "</div>"
      ],
      "text/plain": [
       "  Item_Identifier  Item_Weight  Item_Fat_Content  Item_Visibility  Item_Type  \\\n",
       "0           FDA15         9.30                 1         0.016047          4   \n",
       "1           DRC01         5.92                 2         0.019278         14   \n",
       "2           FDN15        17.50                 1         0.016760         10   \n",
       "3           FDX07        19.20                 2         0.000000          6   \n",
       "4           NCD19         8.93                 1         0.000000          9   \n",
       "\n",
       "   Item_MRP  Outlet_Identifier  Outlet_Establishment_Year  Outlet_Size  \\\n",
       "0  249.8092                  9                       1999            1   \n",
       "1   48.2692                  3                       2009            1   \n",
       "2  141.6180                  9                       1999            1   \n",
       "3  182.0950                  0                       1998            2   \n",
       "4   53.8614                  1                       1987            0   \n",
       "\n",
       "   Outlet_Location_Type  Outlet_Type  Item_Outlet_Sales  \n",
       "0                     0            1          3735.1380  \n",
       "1                     2            2           443.4228  \n",
       "2                     0            1          2097.2700  \n",
       "3                     2            0           732.3800  \n",
       "4                     2            1           994.7052  "
      ]
     },
     "execution_count": 14,
     "metadata": {},
     "output_type": "execute_result"
    }
   ],
   "source": [
    "data.head()"
   ]
  },
  {
   "cell_type": "markdown",
   "metadata": {
    "id": "DPZU2ApIqJXI"
   },
   "source": [
    "### Scale the data:\n",
    "\n",
    "So far we have taken care of the missing values and the categorical (string) variables in the data. Next we will work with the continuous variables. Often the continuous variables in the data have different scales, for instance, a variable V1 can have a range from 0 to 1 while another variable can have a range from 0-1000.\n",
    "\n",
    "Based on the type of model you are building, you will have to normalize the data in such a way that the range of all the variables is almost similar"
   ]
  },
  {
   "cell_type": "code",
   "execution_count": 15,
   "metadata": {
    "id": "GR0CL-OnqJXL"
   },
   "outputs": [],
   "source": [
    "#apply standard scaler on Item MRP column only\n",
    "from sklearn.preprocessing import StandardScaler\n",
    "scale=StandardScaler()\n",
    "data[\"Item_MRP\"]=scale.fit_transform(data[[\"Item_MRP\"]])\n"
   ]
  },
  {
   "cell_type": "markdown",
   "metadata": {
    "id": "QhJivIp5qJXN"
   },
   "source": [
    "### Model Building\n",
    "\n",
    "Now that we are done with the basic pre-processing steps, we can go ahead and build simple machine learning models over this data. We will try two models here – Linear Regression to predict the sales.\n",
    "\n",
    "To compare the performance of the models, we will create a validation set (or test set). Here I have randomly split the data into two parts using the train_test_split() function, such that the validation set holds 25% of the data points while the train set has 75%"
   ]
  },
  {
   "cell_type": "code",
   "execution_count": 16,
   "metadata": {
    "id": "_oe1rzLgqJXO"
   },
   "outputs": [
    {
     "name": "stdout",
     "output_type": "stream",
     "text": [
      "(6392, 10)\n",
      "(2131, 10)\n"
     ]
    }
   ],
   "source": [
    "# importing libraries for model building\n",
    "from sklearn.model_selection import train_test_split\n",
    "\n",
    "# separate the independent and target variable\n",
    "x=data.drop(['Item_Outlet_Sales','Item_Identifier'],axis=1)\n",
    "y=data[\"Item_Outlet_Sales\"]\n",
    "\n",
    "# randomly split the data\n",
    "x_train,x_test,y_train,y_test=train_test_split(x,y,test_size=0.25,random_state=1)\n",
    "\n",
    "# shape of train and test splits\n",
    "print(x_train.shape)\n",
    "print(x_test.shape)"
   ]
  },
  {
   "cell_type": "code",
   "execution_count": null,
   "metadata": {},
   "outputs": [],
   "source": []
  },
  {
   "cell_type": "markdown",
   "metadata": {
    "id": "fuGOLY6kzKgn"
   },
   "source": [
    "GO ahead and perfom model building using Multiple methods. Feel Free to perform any additional preprocessing"
   ]
  },
  {
   "cell_type": "markdown",
   "metadata": {
    "id": "mWjBFDiRzSzo"
   },
   "source": [
    "# Model Building"
   ]
  },
  {
   "cell_type": "markdown",
   "metadata": {},
   "source": [
    "# Linear Regression"
   ]
  },
  {
   "cell_type": "code",
   "execution_count": 17,
   "metadata": {},
   "outputs": [],
   "source": [
    "from sklearn.linear_model import LinearRegression  \n",
    "regressor= LinearRegression()  \n",
    "regressor.fit(x_train, y_train)\n",
    "y_pred_train_lr=regressor.predict(x_train)\n",
    "y_pred_test_lr=regressor.predict(x_test)"
   ]
  },
  {
   "cell_type": "code",
   "execution_count": 18,
   "metadata": {},
   "outputs": [
    {
     "data": {
      "text/plain": [
       "0.5048357248419655"
      ]
     },
     "execution_count": 18,
     "metadata": {},
     "output_type": "execute_result"
    }
   ],
   "source": [
    "#Accuracy on train data\n",
    "acc_train_linear_regression=regressor.score(x_train,y_train)\n",
    "acc_train_linear_regression"
   ]
  },
  {
   "cell_type": "code",
   "execution_count": 19,
   "metadata": {},
   "outputs": [
    {
     "data": {
      "text/plain": [
       "0.49922253943397"
      ]
     },
     "execution_count": 19,
     "metadata": {},
     "output_type": "execute_result"
    }
   ],
   "source": [
    "#Accuracy on test data\n",
    "acc_test_linear_regression=regressor.score(x_test,y_test)\n",
    "acc_test_linear_regression"
   ]
  },
  {
   "cell_type": "code",
   "execution_count": 20,
   "metadata": {},
   "outputs": [
    {
     "name": "stdout",
     "output_type": "stream",
     "text": [
      "Model Evaluation for Linear Regression\n",
      "-----------------------Model Evaluation for training data --------------------------\n",
      "The Mean Squared Error for Linear regression is:        1444338.8631117987\n",
      "The Mean Absolute Error for Linear regression is:       900.1392686601853\n",
      "The Root Mean Squared Error for Linear Regression is:   1201.8064998625189\n",
      "\n",
      "---------------------Model Evaluation for testing data ---------------------------\n",
      "The Mean Squared Error for Linear regression is:        1450217.990969197\n",
      "The Mean Absolute Error for Linear regression is:       915.6536622501253\n",
      "The Root Mean Squared Error for Linear Regression is:   1204.2499703006833\n"
     ]
    }
   ],
   "source": [
    "from sklearn.metrics import mean_squared_error,mean_absolute_error,r2_score\n",
    "\n",
    "print(\"Model Evaluation for Linear Regression\")\n",
    "print(\"-----------------------Model Evaluation for training data --------------------------\")\n",
    "print(\"The Mean Squared Error for Linear regression is:       \",mean_squared_error(y_train,y_pred_train_lr))\n",
    "print(\"The Mean Absolute Error for Linear regression is:      \",mean_absolute_error(y_train,y_pred_train_lr))\n",
    "print(\"The Root Mean Squared Error for Linear Regression is:  \",np.sqrt(mean_squared_error(y_train,y_pred_train_lr)))\n",
    "print(\"\\n---------------------Model Evaluation for testing data ---------------------------\")\n",
    "print(\"The Mean Squared Error for Linear regression is:       \",mean_squared_error(y_test,y_pred_test_lr))\n",
    "print(\"The Mean Absolute Error for Linear regression is:      \",mean_absolute_error(y_test,y_pred_test_lr))\n",
    "print(\"The Root Mean Squared Error for Linear Regression is:  \",np.sqrt(mean_squared_error(y_test,y_pred_test_lr)))"
   ]
  },
  {
   "cell_type": "code",
   "execution_count": 21,
   "metadata": {},
   "outputs": [],
   "source": [
    "#Checking the significant features\n"
   ]
  },
  {
   "cell_type": "markdown",
   "metadata": {},
   "source": [
    "# Ridge Regression"
   ]
  },
  {
   "cell_type": "code",
   "execution_count": null,
   "metadata": {},
   "outputs": [],
   "source": []
  },
  {
   "cell_type": "code",
   "execution_count": 22,
   "metadata": {},
   "outputs": [],
   "source": [
    "from sklearn.linear_model import Ridge\n",
    "RR =Ridge(alpha=0.1)\n",
    "RR.fit(x_train,y_train)\n",
    "y_pred_train_rr=RR.predict(x_train)\n",
    "y_pred_test_rr=RR.predict(x_test)"
   ]
  },
  {
   "cell_type": "code",
   "execution_count": 23,
   "metadata": {},
   "outputs": [
    {
     "data": {
      "text/plain": [
       "0.5048356278552245"
      ]
     },
     "execution_count": 23,
     "metadata": {},
     "output_type": "execute_result"
    }
   ],
   "source": [
    "#Accuracy on train data\n",
    "acc_train_Ridge_regression=RR.score(x_train,y_train)\n",
    "acc_train_Ridge_regression"
   ]
  },
  {
   "cell_type": "code",
   "execution_count": 24,
   "metadata": {},
   "outputs": [
    {
     "data": {
      "text/plain": [
       "0.4992316540876308"
      ]
     },
     "execution_count": 24,
     "metadata": {},
     "output_type": "execute_result"
    }
   ],
   "source": [
    "#Accuracy on test data\n",
    "acc_test_Ridge_regression=RR.score(x_test,y_test)\n",
    "acc_test_Ridge_regression"
   ]
  },
  {
   "cell_type": "code",
   "execution_count": 25,
   "metadata": {},
   "outputs": [
    {
     "name": "stdout",
     "output_type": "stream",
     "text": [
      "Model Evaluation for Ridge Regression\n",
      "-----------------------Model Evaluation for training data --------------------------\n",
      "The Mean Squared Error for ridge regression is:        1444339.1460112848\n",
      "The Mean Absolute Error for ridge regression is:       900.137237008462\n",
      "The Root Mean Squared Error for Ridge Regression is:   1201.806617560115\n",
      "\n",
      "---------------------Model Evaluation for testing data ---------------------------\n",
      "The Mean Squared Error for ridge regression is:        1450191.5955425631\n",
      "The Mean Absolute Error for ridge regression is:       915.6513394748958\n",
      "The Root Mean Squared Error for Ridge Regression is:   1204.2390109702321\n"
     ]
    }
   ],
   "source": [
    "print(\"Model Evaluation for Ridge Regression\")\n",
    "print(\"-----------------------Model Evaluation for training data --------------------------\")\n",
    "print(\"The Mean Squared Error for ridge regression is:       \",mean_squared_error(y_train,y_pred_train_rr))\n",
    "print(\"The Mean Absolute Error for ridge regression is:      \",mean_absolute_error(y_train,y_pred_train_rr))\n",
    "print(\"The Root Mean Squared Error for Ridge Regression is:  \",np.sqrt(mean_squared_error(y_train,y_pred_train_rr)))\n",
    "print(\"\\n---------------------Model Evaluation for testing data ---------------------------\")\n",
    "print(\"The Mean Squared Error for ridge regression is:       \",mean_squared_error(y_test,y_pred_test_rr))\n",
    "print(\"The Mean Absolute Error for ridge regression is:      \",mean_absolute_error(y_test,y_pred_test_rr))\n",
    "print(\"The Root Mean Squared Error for Ridge Regression is:  \",np.sqrt(mean_squared_error(y_test,y_pred_test_rr)))\n"
   ]
  },
  {
   "cell_type": "markdown",
   "metadata": {},
   "source": [
    "# Ridge CV"
   ]
  },
  {
   "cell_type": "code",
   "execution_count": 26,
   "metadata": {},
   "outputs": [],
   "source": [
    "from sklearn.model_selection import RepeatedKFold\n",
    "from sklearn.linear_model import RidgeCV\n",
    "from numpy import arange\n",
    "#instantiate repeated k-fold\n",
    "rcv = RepeatedKFold(n_splits=10,n_repeats=3,random_state=42)\n",
    "\n",
    "#instantiate ridgecv\n",
    "ridgecv = RidgeCV(alphas=arange(0.1, 1, 0.01), cv=rcv, scoring='neg_mean_absolute_error')\n",
    "\n",
    "#fitting ridge model\n",
    "ridgecv.fit(x_train, y_train)\n",
    "y_pred_train_rcv=ridgecv.predict(x_train)\n",
    "y_pred_test_rcv=ridgecv.predict(x_test)"
   ]
  },
  {
   "cell_type": "code",
   "execution_count": 27,
   "metadata": {},
   "outputs": [
    {
     "data": {
      "text/plain": [
       "0.5048271931835807"
      ]
     },
     "execution_count": 27,
     "metadata": {},
     "output_type": "execute_result"
    }
   ],
   "source": [
    "#accuracy on train data\n",
    "\n",
    "acc_train_ridgecv=ridgecv.score(x_train,y_train)\n",
    "acc_train_ridgecv"
   ]
  },
  {
   "cell_type": "code",
   "execution_count": 28,
   "metadata": {},
   "outputs": [
    {
     "data": {
      "text/plain": [
       "0.4993002388527126"
      ]
     },
     "execution_count": 28,
     "metadata": {},
     "output_type": "execute_result"
    }
   ],
   "source": [
    "#Accuracy on test data\n",
    "acc_test_ridgecv=ridgecv.score(x_test,y_test)\n",
    "acc_test_ridgecv"
   ]
  },
  {
   "cell_type": "code",
   "execution_count": 29,
   "metadata": {},
   "outputs": [
    {
     "name": "stdout",
     "output_type": "stream",
     "text": [
      "Model Evaluation for Ridge CV\n",
      "-----------------------Model Evaluation for training data --------------------------\n",
      "The Mean Squared Error for ridge CV is:        1444363.749006016\n",
      "The Mean Absolute Error for ridge CV is:       900.1314675213666\n",
      "The Root Mean Squared Error for Ridge CV is:   1201.8168533541273\n",
      "\n",
      "---------------------Model Evaluation for testing data ---------------------------\n",
      "The Mean Squared Error for ridge CV is:        1449992.9786557017\n",
      "The Mean Absolute Error for ridge CV is:       915.632029349304\n",
      "The Root Mean Squared Error for Ridge CV is:   1204.1565424211678\n"
     ]
    }
   ],
   "source": [
    "print(\"Model Evaluation for Ridge CV\")\n",
    "print(\"-----------------------Model Evaluation for training data --------------------------\")\n",
    "print(\"The Mean Squared Error for ridge CV is:       \",mean_squared_error(y_train,y_pred_train_rcv))\n",
    "print(\"The Mean Absolute Error for ridge CV is:      \",mean_absolute_error(y_train,y_pred_train_rcv))\n",
    "print(\"The Root Mean Squared Error for Ridge CV is:  \",np.sqrt(mean_squared_error(y_train,y_pred_train_rcv)))\n",
    "print(\"\\n---------------------Model Evaluation for testing data ---------------------------\")\n",
    "print(\"The Mean Squared Error for ridge CV is:       \",mean_squared_error(y_test,y_pred_test_rcv))\n",
    "print(\"The Mean Absolute Error for ridge CV is:      \",mean_absolute_error(y_test,y_pred_test_rcv))\n",
    "print(\"The Root Mean Squared Error for Ridge CV is:  \",np.sqrt(mean_squared_error(y_test,y_pred_test_rcv)))\n"
   ]
  },
  {
   "cell_type": "markdown",
   "metadata": {},
   "source": [
    "# Lasso Regression"
   ]
  },
  {
   "cell_type": "code",
   "execution_count": null,
   "metadata": {},
   "outputs": [],
   "source": []
  },
  {
   "cell_type": "code",
   "execution_count": 30,
   "metadata": {},
   "outputs": [],
   "source": [
    "from sklearn.linear_model import Lasso\n",
    "lr=Lasso()\n",
    "lr.fit(x_train,y_train)\n",
    "y_pred_train_lr=lr.predict(x_train)\n",
    "y_pred_test_lr=lr.predict(x_test)\n"
   ]
  },
  {
   "cell_type": "code",
   "execution_count": 31,
   "metadata": {},
   "outputs": [
    {
     "data": {
      "text/plain": [
       "0.5046935716737968"
      ]
     },
     "execution_count": 31,
     "metadata": {},
     "output_type": "execute_result"
    }
   ],
   "source": [
    "#Accuracy on train data\n",
    "acc_train_lasso_reg=lr.score(x_train,y_train)\n",
    "acc_train_lasso_reg"
   ]
  },
  {
   "cell_type": "code",
   "execution_count": 32,
   "metadata": {},
   "outputs": [
    {
     "data": {
      "text/plain": [
       "0.49938214681132553"
      ]
     },
     "execution_count": 32,
     "metadata": {},
     "output_type": "execute_result"
    }
   ],
   "source": [
    "#Accuracy on test data\n",
    "acc_test_lasso_reg=lr.score(x_test,y_test)\n",
    "acc_test_lasso_reg"
   ]
  },
  {
   "cell_type": "code",
   "execution_count": 33,
   "metadata": {},
   "outputs": [
    {
     "name": "stdout",
     "output_type": "stream",
     "text": [
      "Model Evaluation for Lasso Regression\n",
      "-----------------------Model Evaluation for training data --------------------------\n",
      "The Mean Squared Error for lasso regression is:        1444753.5080197635\n",
      "The Mean Absolute Error for lasso regression is:       900.1506506446292\n",
      "The Root Mean Squared Error for lasso Regression is:   1201.9789964969286\n",
      "\n",
      "---------------------Model Evaluation for testing data ---------------------------\n",
      "The Mean Squared Error for lasso regression is:        1449755.778692569\n",
      "The Mean Absolute Error for lasso regression is:       915.7151328797645\n",
      "The Root Mean Squared Error for lasso Regression is:   1204.0580462305663\n"
     ]
    }
   ],
   "source": [
    "print(\"Model Evaluation for Lasso Regression\")\n",
    "print(\"-----------------------Model Evaluation for training data --------------------------\")\n",
    "print(\"The Mean Squared Error for lasso regression is:       \",mean_squared_error(y_train,y_pred_train_lr))\n",
    "print(\"The Mean Absolute Error for lasso regression is:      \",mean_absolute_error(y_train,y_pred_train_lr))\n",
    "print(\"The Root Mean Squared Error for lasso Regression is:  \",np.sqrt(mean_squared_error(y_train,y_pred_train_lr)))\n",
    "print(\"\\n---------------------Model Evaluation for testing data ---------------------------\")\n",
    "print(\"The Mean Squared Error for lasso regression is:       \",mean_squared_error(y_test,y_pred_test_lr))\n",
    "print(\"The Mean Absolute Error for lasso regression is:      \",mean_absolute_error(y_test,y_pred_test_lr))\n",
    "print(\"The Root Mean Squared Error for lasso Regression is:  \",np.sqrt(mean_squared_error(y_test,y_pred_test_lr)))\n"
   ]
  },
  {
   "cell_type": "markdown",
   "metadata": {},
   "source": [
    "# Lasso CV"
   ]
  },
  {
   "cell_type": "code",
   "execution_count": 34,
   "metadata": {},
   "outputs": [],
   "source": [
    "from sklearn.model_selection import RepeatedKFold\n",
    "from sklearn.linear_model import LassoCV\n",
    "from numpy import arange\n",
    "#instantiate repeated k-fold\n",
    "lcv = RepeatedKFold(n_splits=10,n_repeats=3,random_state=42)\n",
    "\n",
    "#instantiate ridgecv\n",
    "lassocv = LassoCV(alphas=arange(0.1, 1, 0.01), cv=lcv)\n",
    "\n",
    "#fitting ridge model\n",
    "lassocv.fit(x_train, y_train)\n",
    "y_pred_train_lcv=lassocv.predict(x_train)\n",
    "y_pred_test_lcv=lassocv.predict(x_test)"
   ]
  },
  {
   "cell_type": "code",
   "execution_count": 35,
   "metadata": {},
   "outputs": [
    {
     "data": {
      "text/plain": [
       "0.5048343030237328"
      ]
     },
     "execution_count": 35,
     "metadata": {},
     "output_type": "execute_result"
    }
   ],
   "source": [
    "#Accuracy on train data\n",
    "acc_train_lasso_cv=lassocv.score(x_train,y_train)\n",
    "acc_train_lasso_cv"
   ]
  },
  {
   "cell_type": "code",
   "execution_count": 36,
   "metadata": {},
   "outputs": [
    {
     "data": {
      "text/plain": [
       "0.4992519908111869"
      ]
     },
     "execution_count": 36,
     "metadata": {},
     "output_type": "execute_result"
    }
   ],
   "source": [
    "#Accuracy on test data\n",
    "acc_test_lasso_cv=lassocv.score(x_test,y_test)\n",
    "acc_test_lasso_cv"
   ]
  },
  {
   "cell_type": "code",
   "execution_count": 37,
   "metadata": {},
   "outputs": [
    {
     "name": "stdout",
     "output_type": "stream",
     "text": [
      "Model Evaluation for Lasso CV\n",
      "-----------------------Model Evaluation for training data --------------------------\n",
      "The Mean Squared Error for Lasso CV is:        1444343.010396715\n",
      "The Mean Absolute Error for Lasso CV is:       900.1241855496673\n",
      "The Root Mean Squared Error for Lasso CV is:   1201.8082252991594\n",
      "\n",
      "---------------------Model Evaluation for testing data ---------------------------\n",
      "The Mean Squared Error for Lasso CV is:        1450132.7017530045\n",
      "The Mean Absolute Error for Lasso CV is:       915.6500364826824\n",
      "The Root Mean Squared Error for Lasso CV is:   1204.2145580223669\n"
     ]
    }
   ],
   "source": [
    "print(\"Model Evaluation for Lasso CV\")\n",
    "print(\"-----------------------Model Evaluation for training data --------------------------\")\n",
    "print(\"The Mean Squared Error for Lasso CV is:       \",mean_squared_error(y_train,y_pred_train_lcv))\n",
    "print(\"The Mean Absolute Error for Lasso CV is:      \",mean_absolute_error(y_train,y_pred_train_lcv))\n",
    "print(\"The Root Mean Squared Error for Lasso CV is:  \",np.sqrt(mean_squared_error(y_train,y_pred_train_lcv)))\n",
    "print(\"\\n---------------------Model Evaluation for testing data ---------------------------\")\n",
    "print(\"The Mean Squared Error for Lasso CV is:       \",mean_squared_error(y_test,y_pred_test_lcv))\n",
    "print(\"The Mean Absolute Error for Lasso CV is:      \",mean_absolute_error(y_test,y_pred_test_lcv))\n",
    "print(\"The Root Mean Squared Error for Lasso CV is:  \",np.sqrt(mean_squared_error(y_test,y_pred_test_lcv)))\n"
   ]
  },
  {
   "cell_type": "markdown",
   "metadata": {},
   "source": [
    "# Decision Tree"
   ]
  },
  {
   "cell_type": "code",
   "execution_count": 38,
   "metadata": {},
   "outputs": [],
   "source": [
    "from sklearn.tree import DecisionTreeRegressor\n",
    "decision_tree= DecisionTreeRegressor()\n",
    "decision_tree.fit(x_train,y_train)\n",
    "y_pred_train_dt=decision_tree.predict(x_train)\n",
    "y_pred_test_dt=decision_tree.predict(x_test)"
   ]
  },
  {
   "cell_type": "code",
   "execution_count": 39,
   "metadata": {},
   "outputs": [
    {
     "data": {
      "text/plain": [
       "1.0"
      ]
     },
     "execution_count": 39,
     "metadata": {},
     "output_type": "execute_result"
    }
   ],
   "source": [
    "#Accuracy on test data\n",
    "acc_train_decision_tree=decision_tree.score(x_train,y_train)\n",
    "acc_train_decision_tree"
   ]
  },
  {
   "cell_type": "code",
   "execution_count": 40,
   "metadata": {},
   "outputs": [
    {
     "data": {
      "text/plain": [
       "0.1604832374038384"
      ]
     },
     "execution_count": 40,
     "metadata": {},
     "output_type": "execute_result"
    }
   ],
   "source": [
    "#Accuracy on test data\n",
    "acc_test_decision_tree=decision_tree.score(x_test,y_test)\n",
    "acc_test_decision_tree"
   ]
  },
  {
   "cell_type": "code",
   "execution_count": 41,
   "metadata": {},
   "outputs": [
    {
     "name": "stdout",
     "output_type": "stream",
     "text": [
      "Decision Tree Regressor Model Performance: \n",
      "\n",
      "------------------Training Performance:---------------\n",
      "Mean Absolute Error        : 0.0\n",
      "Mean Squared Error         : 0.0\n",
      "Root Mean Squared Error    : 0.0\n",
      "R2 Score                   : 1.0\n",
      "\n",
      "-----------------Testing Performance:-----------------\n",
      "Mean Absolute Error        : 1075.6209893946505\n",
      "Mean Squared Error         : 2431184.3257902353\n",
      "Root Mean Squared Error    : 1559.2255532123104\n",
      "R2 Score                   : 0.1604832374038384\n"
     ]
    }
   ],
   "source": [
    "from sklearn import metrics\n",
    "print(\"Decision Tree Regressor Model Performance: \\n\")\n",
    "\n",
    "print(\"------------------Training Performance:---------------\")\n",
    "print(\"Mean Absolute Error        :\",metrics.mean_absolute_error(y_train,y_pred_train_dt))\n",
    "print(\"Mean Squared Error         :\",metrics.mean_squared_error(y_train,y_pred_train_dt))\n",
    "print(\"Root Mean Squared Error    :\",np.sqrt(metrics.mean_squared_error(y_train,y_pred_train_dt)))\n",
    "print(\"R2 Score                   :\",metrics.r2_score(y_train,y_pred_train_dt))\n",
    "\n",
    "print(\"\\n-----------------Testing Performance:-----------------\")\n",
    "print(\"Mean Absolute Error        :\",metrics.mean_absolute_error(y_test,y_pred_test_dt))\n",
    "print(\"Mean Squared Error         :\",metrics.mean_squared_error(y_test,y_pred_test_dt))\n",
    "print(\"Root Mean Squared Error    :\",np.sqrt(metrics.mean_squared_error(y_test,y_pred_test_dt)))\n",
    "print(\"R2 Score                   :\",metrics.r2_score(y_test,y_pred_test_dt))"
   ]
  },
  {
   "cell_type": "markdown",
   "metadata": {},
   "source": [
    "# Tuning Parameter using GridSearchCV"
   ]
  },
  {
   "cell_type": "code",
   "execution_count": 42,
   "metadata": {},
   "outputs": [],
   "source": [
    "params = {'max_depth':[2,3,5,10,20],\n",
    "         'min_samples_leaf':[5,10,20,50],\n",
    "         'min_samples_split':[2,5,10,20]\n",
    "         }"
   ]
  },
  {
   "cell_type": "code",
   "execution_count": 43,
   "metadata": {},
   "outputs": [
    {
     "data": {
      "text/plain": [
       "GridSearchCV(cv=10, estimator=DecisionTreeRegressor(),\n",
       "             param_grid={'max_depth': [2, 3, 5, 10, 20],\n",
       "                         'min_samples_leaf': [5, 10, 20, 50],\n",
       "                         'min_samples_split': [2, 5, 10, 20]},\n",
       "             scoring='neg_mean_squared_error')"
      ]
     },
     "execution_count": 43,
     "metadata": {},
     "output_type": "execute_result"
    }
   ],
   "source": [
    "reg_dt = DecisionTreeRegressor()\n",
    "\n",
    "from sklearn.model_selection import GridSearchCV\n",
    "\n",
    "grid_search = GridSearchCV(estimator=reg_dt,\n",
    "                          param_grid=params,\n",
    "                          cv=10,\n",
    "                          scoring='neg_mean_squared_error')\n",
    "grid_search.fit(x_train,y_train)"
   ]
  },
  {
   "cell_type": "code",
   "execution_count": 44,
   "metadata": {},
   "outputs": [
    {
     "data": {
      "text/plain": [
       "{'max_depth': 5, 'min_samples_leaf': 50, 'min_samples_split': 2}"
      ]
     },
     "execution_count": 44,
     "metadata": {},
     "output_type": "execute_result"
    }
   ],
   "source": [
    "grid_search.best_params_"
   ]
  },
  {
   "cell_type": "code",
   "execution_count": 45,
   "metadata": {},
   "outputs": [],
   "source": [
    "params2 = {'max_depth':range(1,10),\n",
    "         'min_samples_leaf':range(50,60),\n",
    "         'min_samples_split':range(2,5)\n",
    "          }"
   ]
  },
  {
   "cell_type": "code",
   "execution_count": 46,
   "metadata": {},
   "outputs": [
    {
     "data": {
      "text/plain": [
       "GridSearchCV(cv=10, estimator=DecisionTreeRegressor(),\n",
       "             param_grid={'max_depth': range(1, 10),\n",
       "                         'min_samples_leaf': range(50, 60),\n",
       "                         'min_samples_split': range(2, 5)},\n",
       "             scoring='neg_mean_squared_error')"
      ]
     },
     "execution_count": 46,
     "metadata": {},
     "output_type": "execute_result"
    }
   ],
   "source": [
    "reg_dt = DecisionTreeRegressor()\n",
    "\n",
    "from sklearn.model_selection import GridSearchCV\n",
    "\n",
    "grid_search = GridSearchCV(estimator=reg_dt,\n",
    "                          param_grid=params2,\n",
    "                          cv=10,\n",
    "                          scoring='neg_mean_squared_error')\n",
    "grid_search.fit(x_train,y_train)"
   ]
  },
  {
   "cell_type": "code",
   "execution_count": 47,
   "metadata": {},
   "outputs": [
    {
     "data": {
      "text/plain": [
       "{'max_depth': 6, 'min_samples_leaf': 59, 'min_samples_split': 3}"
      ]
     },
     "execution_count": 47,
     "metadata": {},
     "output_type": "execute_result"
    }
   ],
   "source": [
    "grid_search.best_params_"
   ]
  },
  {
   "cell_type": "code",
   "execution_count": 48,
   "metadata": {},
   "outputs": [],
   "source": [
    "reg_dt_tuned = DecisionTreeRegressor(max_depth= 6,\n",
    "                                     min_samples_leaf= 59,\n",
    "                                     min_samples_split= 2\n",
    "                                    )\n",
    "reg_dt_tuned = reg_dt_tuned.fit(x_train,y_train)"
   ]
  },
  {
   "cell_type": "code",
   "execution_count": 49,
   "metadata": {},
   "outputs": [],
   "source": [
    "y_test_predict_dtr = reg_dt_tuned.predict(x_test)\n",
    "y_train_predict_dtr = reg_dt_tuned.predict(x_train)"
   ]
  },
  {
   "cell_type": "code",
   "execution_count": 50,
   "metadata": {},
   "outputs": [
    {
     "name": "stdout",
     "output_type": "stream",
     "text": [
      "Decision Tree Regressor Model Performance: \n",
      "\n",
      "------------------Training Performance:---------------\n",
      "Mean Absolute Error        : 744.0204496825357\n",
      "Mean Squared Error         : 1131895.0658369497\n",
      "Root Mean Squared Error    : 1063.905571861032\n",
      "R2 Score                   : 0.6119511742399708\n",
      "\n",
      "-----------------Testing Performance:-----------------\n",
      "Mean Absolute Error        : 764.4934986679607\n",
      "Mean Squared Error         : 1184205.2690494338\n",
      "Root Mean Squared Error    : 1088.211959615145\n",
      "R2 Score                   : 0.5910798851508086\n"
     ]
    }
   ],
   "source": [
    "from sklearn import metrics\n",
    "print(\"Decision Tree Regressor Model Performance: \\n\")\n",
    "\n",
    "print(\"------------------Training Performance:---------------\")\n",
    "print(\"Mean Absolute Error        :\",metrics.mean_absolute_error(y_train,y_train_predict_dtr))\n",
    "print(\"Mean Squared Error         :\",metrics.mean_squared_error(y_train,y_train_predict_dtr))\n",
    "print(\"Root Mean Squared Error    :\",np.sqrt(metrics.mean_squared_error(y_train,y_train_predict_dtr)))\n",
    "print(\"R2 Score                   :\",metrics.r2_score(y_train,y_train_predict_dtr))\n",
    "\n",
    "print(\"\\n-----------------Testing Performance:-----------------\")\n",
    "print(\"Mean Absolute Error        :\",metrics.mean_absolute_error(y_test,y_test_predict_dtr))\n",
    "print(\"Mean Squared Error         :\",metrics.mean_squared_error(y_test,y_test_predict_dtr))\n",
    "print(\"Root Mean Squared Error    :\",np.sqrt(metrics.mean_squared_error(y_test,y_test_predict_dtr)))\n",
    "print(\"R2 Score                   :\",metrics.r2_score(y_test,y_test_predict_dtr))"
   ]
  },
  {
   "cell_type": "markdown",
   "metadata": {},
   "source": [
    "# XGBoost"
   ]
  },
  {
   "cell_type": "code",
   "execution_count": 53,
   "metadata": {},
   "outputs": [],
   "source": [
    "import xgboost as xgb\n",
    "xgboost = xgb.XGBRegressor(objective='reg:squarederror',\n",
    "                           eval_metric='rmsle',\n",
    "                           seed=42,\n",
    "                           use_label_encoder=False)\n",
    "xgboost.fit(x_train, y_train)\n",
    "y_pred_train_xgb=xgboost.predict(x_train)\n",
    "y_pred_test_xgb=xgboost.predict(x_test)\n"
   ]
  },
  {
   "cell_type": "code",
   "execution_count": 54,
   "metadata": {},
   "outputs": [
    {
     "name": "stdout",
     "output_type": "stream",
     "text": [
      "XGBoost Model Performance: \n",
      "\n",
      "------------------Training Performance:---------------\n",
      "Mean Absolute Error        : 447.77445425101615\n",
      "Mean Squared Error         : 380969.2853995365\n",
      "Root Mean Squared Error    : 617.2270938637873\n",
      "R2 Score                   : 0.8693918824174613\n",
      "\n",
      "-----------------Testing Performance:-----------------\n",
      "Mean Absolute Error        : 817.9483035304536\n",
      "Mean Squared Error         : 1371588.2411476925\n",
      "Root Mean Squared Error    : 1171.1482575437205\n",
      "R2 Score                   : 0.5263743239834362\n"
     ]
    }
   ],
   "source": [
    "from sklearn import metrics\n",
    "print(\"XGBoost Model Performance: \\n\")\n",
    "\n",
    "print(\"------------------Training Performance:---------------\")\n",
    "print(\"Mean Absolute Error        :\",metrics.mean_absolute_error(y_train,y_pred_train_xgb))\n",
    "print(\"Mean Squared Error         :\",metrics.mean_squared_error(y_train,y_pred_train_xgb))\n",
    "print(\"Root Mean Squared Error    :\",np.sqrt(metrics.mean_squared_error(y_train,y_pred_train_xgb)))\n",
    "print(\"R2 Score                   :\",metrics.r2_score(y_train,y_pred_train_xgb))\n",
    "\n",
    "print(\"\\n-----------------Testing Performance:-----------------\")\n",
    "print(\"Mean Absolute Error        :\",metrics.mean_absolute_error(y_test,y_pred_test_xgb))\n",
    "print(\"Mean Squared Error         :\",metrics.mean_squared_error(y_test,y_pred_test_xgb))\n",
    "print(\"Root Mean Squared Error    :\",np.sqrt(metrics.mean_squared_error(y_test,y_pred_test_xgb)))\n",
    "print(\"R2 Score                   :\",metrics.r2_score(y_test,y_pred_test_xgb))"
   ]
  },
  {
   "cell_type": "markdown",
   "metadata": {},
   "source": [
    "# Tuning the model using GridSearchCV"
   ]
  },
  {
   "cell_type": "code",
   "execution_count": 55,
   "metadata": {},
   "outputs": [
    {
     "data": {
      "text/plain": [
       "GridSearchCV(cv=3,\n",
       "             estimator=XGBRegressor(base_score=None, booster=None,\n",
       "                                    callbacks=None, colsample_bylevel=None,\n",
       "                                    colsample_bynode=None, colsample_bytree=0.5,\n",
       "                                    early_stopping_rounds=None,\n",
       "                                    enable_categorical=False, eval_metric=None,\n",
       "                                    feature_types=None, gamma=None, gpu_id=None,\n",
       "                                    grow_policy=None, importance_type=None,\n",
       "                                    interaction_constraints=None,\n",
       "                                    learning_rate=None, ma...\n",
       "                                    max_depth=None, max_leaves=None,\n",
       "                                    min_child_weight=None, missing=nan,\n",
       "                                    monotone_constraints=None, n_estimators=100,\n",
       "                                    n_jobs=None, num_parallel_tree=None,\n",
       "                                    predictor=None, random_state=None, ...),\n",
       "             param_grid={'gamma': [0, 0.25, 1.0],\n",
       "                         'learning_rate': [0.1, 0.01, 0.05],\n",
       "                         'max_depth': [3, 4, 5], 'reg_lambda': [0, 1.0, 10.0],\n",
       "                         'scale_pos_weight': [1, 3, 5]},\n",
       "             scoring='neg_mean_absolute_error')"
      ]
     },
     "execution_count": 55,
     "metadata": {},
     "output_type": "execute_result"
    }
   ],
   "source": [
    "params = {\n",
    "    \"max_depth\" : [3,4,5],\n",
    "    'learning_rate' : [0.1,0.01,0.05],\n",
    "    'gamma' : [0,0.25,1.0] ,\n",
    "    'scale_pos_weight' : [1,3,5],\n",
    "    'reg_lambda' : [0,1.0,10.0]\n",
    "}\n",
    "\n",
    "from sklearn.model_selection import GridSearchCV\n",
    "\n",
    "optimal_params = GridSearchCV(estimator=xgb.XGBRegressor(objective='reg:squarederror',\n",
    "                                                          seed=42,subsample=0.9,colsample_bytree=0.5,\n",
    "                                                          use_label_encoder=False),\n",
    "                              param_grid=params,\n",
    "                              scoring='neg_mean_absolute_error',\n",
    "                              verbose=0,\n",
    "                              cv=3\n",
    "                             )\n",
    "\n",
    "optimal_params.fit(x_train,y_train,eval_metric='rmsle', eval_set=[(x_test,y_test)], verbose=False)\n"
   ]
  },
  {
   "cell_type": "code",
   "execution_count": 56,
   "metadata": {},
   "outputs": [
    {
     "data": {
      "text/plain": [
       "{'gamma': 0,\n",
       " 'learning_rate': 0.05,\n",
       " 'max_depth': 4,\n",
       " 'reg_lambda': 10.0,\n",
       " 'scale_pos_weight': 1}"
      ]
     },
     "execution_count": 56,
     "metadata": {},
     "output_type": "execute_result"
    }
   ],
   "source": [
    "optimal_params.best_params_"
   ]
  },
  {
   "cell_type": "code",
   "execution_count": 57,
   "metadata": {},
   "outputs": [
    {
     "data": {
      "text/plain": [
       "GridSearchCV(cv=3,\n",
       "             estimator=XGBRegressor(base_score=None, booster=None,\n",
       "                                    callbacks=None, colsample_bylevel=None,\n",
       "                                    colsample_bynode=None, colsample_bytree=0.5,\n",
       "                                    early_stopping_rounds=None,\n",
       "                                    enable_categorical=False, eval_metric=None,\n",
       "                                    feature_types=None, gamma=None, gpu_id=None,\n",
       "                                    grow_policy=None, importance_type=None,\n",
       "                                    interaction_constraints=None,\n",
       "                                    learning_rate=None, ma...\n",
       "                                    max_cat_to_onehot=None, max_delta_step=None,\n",
       "                                    max_depth=None, max_leaves=None,\n",
       "                                    min_child_weight=None, missing=nan,\n",
       "                                    monotone_constraints=None, n_estimators=100,\n",
       "                                    n_jobs=None, num_parallel_tree=None,\n",
       "                                    predictor=None, random_state=None, ...),\n",
       "             param_grid={'gamma': [0], 'learning_rate': [0.1], 'max_depth': [4],\n",
       "                         'reg_lambda': [10, 100, 500, 1000],\n",
       "                         'scale_pos_weight': [1]},\n",
       "             scoring='neg_mean_absolute_error')"
      ]
     },
     "execution_count": 57,
     "metadata": {},
     "output_type": "execute_result"
    }
   ],
   "source": [
    "params2 = {\n",
    "    \"max_depth\" : [4],\n",
    "    'learning_rate' : [0.1],\n",
    "    'gamma' : [0] ,\n",
    "    'scale_pos_weight' : [1],\n",
    "    'reg_lambda' : [10,100,500,1000]\n",
    "}\n",
    "\n",
    "from sklearn.model_selection import GridSearchCV\n",
    "\n",
    "optimal_params = GridSearchCV(estimator=xgb.XGBRegressor(objective='reg:squarederror',\n",
    "                                                          seed=42,subsample=0.9,colsample_bytree=0.5,\n",
    "                                                          use_label_encoder=False),\n",
    "                              param_grid=params2,\n",
    "                              scoring='neg_mean_absolute_error',\n",
    "                              verbose=0,\n",
    "                              cv=3\n",
    "                             )\n",
    "\n",
    "optimal_params.fit(x_train,y_train,eval_metric='rmsle', eval_set=[(x_test,y_test)], verbose=False)\n"
   ]
  },
  {
   "cell_type": "code",
   "execution_count": 58,
   "metadata": {},
   "outputs": [
    {
     "data": {
      "text/plain": [
       "{'gamma': 0,\n",
       " 'learning_rate': 0.1,\n",
       " 'max_depth': 4,\n",
       " 'reg_lambda': 100,\n",
       " 'scale_pos_weight': 1}"
      ]
     },
     "execution_count": 58,
     "metadata": {},
     "output_type": "execute_result"
    }
   ],
   "source": [
    "optimal_params.best_params_"
   ]
  },
  {
   "cell_type": "code",
   "execution_count": 59,
   "metadata": {},
   "outputs": [
    {
     "name": "stdout",
     "output_type": "stream",
     "text": [
      "[0]\tvalidation_0-rmsle:2.26597\n",
      "[1]\tvalidation_0-rmsle:1.65037\n",
      "[2]\tvalidation_0-rmsle:1.29388\n",
      "[3]\tvalidation_0-rmsle:1.05343\n",
      "[4]\tvalidation_0-rmsle:0.90584\n",
      "[5]\tvalidation_0-rmsle:0.80417\n",
      "[6]\tvalidation_0-rmsle:0.73504\n",
      "[7]\tvalidation_0-rmsle:0.68324\n",
      "[8]\tvalidation_0-rmsle:0.64713\n",
      "[9]\tvalidation_0-rmsle:0.62383\n",
      "[10]\tvalidation_0-rmsle:0.60646\n",
      "[11]\tvalidation_0-rmsle:0.59481\n",
      "[12]\tvalidation_0-rmsle:0.58629\n",
      "[13]\tvalidation_0-rmsle:0.58227\n",
      "[14]\tvalidation_0-rmsle:0.58143\n",
      "[15]\tvalidation_0-rmsle:0.58336\n",
      "[16]\tvalidation_0-rmsle:0.58582\n",
      "[17]\tvalidation_0-rmsle:0.57825\n",
      "[18]\tvalidation_0-rmsle:0.57620\n",
      "[19]\tvalidation_0-rmsle:nan\n",
      "[20]\tvalidation_0-rmsle:nan\n",
      "[21]\tvalidation_0-rmsle:nan\n",
      "[22]\tvalidation_0-rmsle:nan\n",
      "[23]\tvalidation_0-rmsle:nan\n",
      "[24]\tvalidation_0-rmsle:nan\n",
      "[25]\tvalidation_0-rmsle:nan\n",
      "[26]\tvalidation_0-rmsle:nan\n",
      "[27]\tvalidation_0-rmsle:nan\n"
     ]
    },
    {
     "data": {
      "text/plain": [
       "XGBRegressor(base_score=None, booster=None, callbacks=None,\n",
       "             colsample_bylevel=None, colsample_bynode=None,\n",
       "             colsample_bytree=0.5, early_stopping_rounds=None,\n",
       "             enable_categorical=False, eval_metric=None, feature_types=None,\n",
       "             gamma=0, gpu_id=None, grow_policy=None, importance_type=None,\n",
       "             interaction_constraints=None, learning_rate=0.1, max_bin=None,\n",
       "             max_cat_threshold=None, max_cat_to_onehot=None,\n",
       "             max_delta_step=None, max_depth=4, max_leaves=None,\n",
       "             min_child_weight=None, missing=nan, monotone_constraints=None,\n",
       "             n_estimators=100, n_jobs=None, num_parallel_tree=None,\n",
       "             predictor=None, random_state=None, ...)"
      ]
     },
     "execution_count": 59,
     "metadata": {},
     "output_type": "execute_result"
    }
   ],
   "source": [
    "reg_xgb = xgb.XGBRegressor(seed=42,\n",
    "                        objective='reg:squarederror',\n",
    "                        gamma=0,\n",
    "                        learning_rate=0.1,\n",
    "                        max_depth=4,\n",
    "                        reg_lambda=10,\n",
    "                        scale_pos_weight=1,\n",
    "                        subsample=0.9,\n",
    "                        colsample_bytree=0.5,\n",
    "                        use_label_encoder=False)\n",
    "reg_xgb.fit(x_train,\n",
    "            y_train,\n",
    "            verbose=True,\n",
    "            early_stopping_rounds=10,\n",
    "            eval_metric='rmsle',\n",
    "            eval_set=[(x_test, y_test)])"
   ]
  },
  {
   "cell_type": "code",
   "execution_count": 60,
   "metadata": {},
   "outputs": [],
   "source": [
    "#making predictions on training and testing sets\n",
    "y_test_predict_xgb = reg_xgb.predict(x_test)\n",
    "y_train_predict_xgb = reg_xgb.predict(x_train)"
   ]
  },
  {
   "cell_type": "code",
   "execution_count": 61,
   "metadata": {},
   "outputs": [
    {
     "name": "stdout",
     "output_type": "stream",
     "text": [
      "XGBoost Regressor Model Performance: \n",
      "\n",
      "------------------Training Performance:---------------\n",
      "Mean Absolute Error        : 818.1316223640026\n",
      "Mean Squared Error         : 1454499.9822638116\n",
      "Root Mean Squared Error    : 1206.0265263516435\n",
      "R2 Score                   : 0.5013521772284498\n",
      "\n",
      "-----------------Testing Performance:-----------------\n",
      "Mean Absolute Error        : 829.7006214109653\n",
      "Mean Squared Error         : 1449377.3898363838\n",
      "Root Mean Squared Error    : 1203.9009053225202\n",
      "R2 Score                   : 0.49951280896810935\n"
     ]
    }
   ],
   "source": [
    "from sklearn import metrics\n",
    "print(\"XGBoost Regressor Model Performance: \\n\")\n",
    "\n",
    "print(\"------------------Training Performance:---------------\")\n",
    "print(\"Mean Absolute Error        :\",metrics.mean_absolute_error(y_train,y_train_predict_xgb))\n",
    "print(\"Mean Squared Error         :\",metrics.mean_squared_error(y_train,y_train_predict_xgb))\n",
    "print(\"Root Mean Squared Error    :\",np.sqrt(metrics.mean_squared_error(y_train,y_train_predict_xgb)))\n",
    "print(\"R2 Score                   :\",metrics.r2_score(y_train,y_train_predict_xgb))\n",
    "\n",
    "print(\"\\n-----------------Testing Performance:-----------------\")\n",
    "print(\"Mean Absolute Error        :\",metrics.mean_absolute_error(y_test,y_test_predict_xgb))\n",
    "print(\"Mean Squared Error         :\",metrics.mean_squared_error(y_test,y_test_predict_xgb))\n",
    "print(\"Root Mean Squared Error    :\",np.sqrt(metrics.mean_squared_error(y_test,y_test_predict_xgb)))\n",
    "print(\"R2 Score                   :\",metrics.r2_score(y_test,y_test_predict_xgb))"
   ]
  },
  {
   "cell_type": "code",
   "execution_count": null,
   "metadata": {},
   "outputs": [],
   "source": []
  }
 ],
 "metadata": {
  "colab": {
   "provenance": []
  },
  "kernelspec": {
   "display_name": "Python 3 (ipykernel)",
   "language": "python",
   "name": "python3"
  },
  "language_info": {
   "codemirror_mode": {
    "name": "ipython",
    "version": 3
   },
   "file_extension": ".py",
   "mimetype": "text/x-python",
   "name": "python",
   "nbconvert_exporter": "python",
   "pygments_lexer": "ipython3",
   "version": "3.9.7"
  }
 },
 "nbformat": 4,
 "nbformat_minor": 1
}
